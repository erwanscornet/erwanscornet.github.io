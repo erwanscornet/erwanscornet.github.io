{
 "cells": [
  {
   "cell_type": "markdown",
   "metadata": {
    "id": "XiM9Whv6Mrgj"
   },
   "source": [
    "# Classification of the CIFAR-10 dataset\n",
    "\n",
    "The [CIFAR-10 dataset](https://www.cs.toronto.edu/~kriz/cifar.html) provides 60000 32x32-pixel images, classified into 10 categories.  The figure below provides a random sample of some images in each category.\n",
    "\n",
    "![images.png](images.png)\n",
    "\n",
    "During this session, you will learn how to build a Convolutional Neural Network (CNN), which (when trained) will be able to automatically classify new images into one of these categories.  We will make use of the [Keras library](https://www.tensorflow.org/guide/keras) which provides a high-level interface to TensorFlow. Begin by importing the necessary modules.\n",
    "\n",
    "It is strongly recommended to use Google Colab (with a GPU) to run this notebook. This will drastically speed up computations."
   ]
  },
  {
   "cell_type": "code",
   "execution_count": null,
   "metadata": {
    "id": "401TnnoOMrgo"
   },
   "outputs": [],
   "source": [
    "import os\n",
    "import time\n",
    "import datetime\n",
    "from tqdm import tqdm_notebook\n",
    "\n",
    "import numpy as np\n",
    "import pandas\n",
    "import matplotlib.pyplot as plt\n",
    "from sklearn import metrics\n",
    "\n",
    "import torch\n",
    "from torch import nn\n",
    "import torch.nn.functional as F\n",
    "from torchvision import datasets, transforms, utils\n",
    "from torch.utils.data import Dataset, DataLoader\n",
    "import torch.optim as optim\n",
    "\n",
    "from keras.layers import Dense, Flatten, Activation\n",
    "from keras.layers import Conv2D, MaxPooling2D\n",
    "from keras.layers import Dropout, BatchNormalization\n",
    "from tensorflow.keras.optimizers import SGD\n",
    "from keras.datasets import cifar10\n",
    "from keras.models import Model\n",
    "from keras.models import Sequential\n",
    "from keras.callbacks import EarlyStopping"
   ]
  },
  {
   "cell_type": "markdown",
   "metadata": {
    "id": "9aUMshx0Mrgt"
   },
   "source": [
    "# Table of content\n",
    "\n",
    "[1. A first look at the data set](#dataset)<br>\n",
    "\n",
    "[2. A first naive model](#first_model)<br>\n",
    "\n",
    "[3. Convolutional Neural Networks](#cnn)<br>\n",
    "- [3.1 Create your first CNN](#first_cnn)<br>\n",
    "- [3.2 Influence of parameters on the performance](#cnn_parameters)<br>\n",
    "- [3.3 Studying predictions](#results)<br>\n",
    "\n",
    "[4. Pretrained Networks](#pretrained_cnn)<br>\n"
   ]
  },
  {
   "cell_type": "markdown",
   "metadata": {
    "id": "ZorajEN9Mrgv"
   },
   "source": [
    "<a id='dataset'></a>\n",
    "# 1 - A first look at the data set"
   ]
  },
  {
   "cell_type": "markdown",
   "metadata": {
    "id": "KDzU6h9CMrgx"
   },
   "source": [
    "**1) Download the dataset. See [`keras.datasets`](https://keras.io/datasets/) for how to download the data.  Note that the dataset is already divided into a training set of 50000 images, and a test set of 10000.**"
   ]
  },
  {
   "cell_type": "code",
   "execution_count": null,
   "metadata": {
    "id": "J9DQs7q-Mrgz"
   },
   "outputs": [],
   "source": [
    "################## TODO BLOCK\n",
    " \n",
    "################## END TODO BLOCK"
   ]
  },
  {
   "cell_type": "markdown",
   "metadata": {
    "id": "K8uhITY3Mrg2"
   },
   "source": [
    "**2) Check the shape of images and targets.**"
   ]
  },
  {
   "cell_type": "code",
   "execution_count": null,
   "metadata": {
    "colab": {
     "base_uri": "https://localhost:8080/"
    },
    "id": "RvZRKXYiMrg4",
    "outputId": "4aad507f-9357-444e-b092-bd08652e0913"
   },
   "outputs": [],
   "source": [
    "################## TODO BLOCK\n",
    "\n",
    "################## END TODO BLOCK"
   ]
  },
  {
   "cell_type": "markdown",
   "metadata": {
    "id": "PyjAKd0-Mrg6"
   },
   "source": [
    "**3) Create a list of labels corresponding to the 10 categories.  This will be used to convert the 0-9 digits in the target arrays to string labels. The categories are labeled as follows**\n",
    "  0. airplane\n",
    "  1. automobile\n",
    "  2. bird\n",
    "  3. cat\n",
    "  4. deer\n",
    "  5. dog\n",
    "  6. frog\n",
    "  7. horse\n",
    "  8. ship\n",
    "  9. truck\n"
   ]
  },
  {
   "cell_type": "code",
   "execution_count": null,
   "metadata": {
    "id": "nK-Q3qlrMrg8"
   },
   "outputs": [],
   "source": [
    "################## TODO BLOCK\n",
    "\n",
    "\n",
    "################## END TODO BLOCK"
   ]
  },
  {
   "cell_type": "markdown",
   "metadata": {
    "id": "cH_ixDuPMrg-"
   },
   "source": [
    "**4) Normalize images from [0,255] to be [0,1] (normalizing usually improves model training).**"
   ]
  },
  {
   "cell_type": "code",
   "execution_count": null,
   "metadata": {
    "id": "vvo0xdwuMrg_"
   },
   "outputs": [],
   "source": [
    "################## TODO BLOCK\n",
    "\n",
    "################## END TODO BLOCK"
   ]
  },
  {
   "cell_type": "markdown",
   "metadata": {
    "id": "kq0Sw2iPMrhA"
   },
   "source": [
    "**5) Convert the target arrays to one-hot encodings.  Hint: checkout the [`keras.utils.to_categorical()`](https://www.tensorflow.org/api_docs/python/tf/keras/utils/to_categorical)**"
   ]
  },
  {
   "cell_type": "code",
   "execution_count": null,
   "metadata": {
    "id": "ieUNFSSEMrhB"
   },
   "outputs": [],
   "source": [
    "################## TODO BLOCK\n",
    "\n",
    "################## END TODO BLOCK"
   ]
  },
  {
   "cell_type": "markdown",
   "metadata": {
    "id": "UnVXryCVMrhB"
   },
   "source": [
    "**6) Visualize some images in each category using the `imshow()` function in `matplotlib.pyplot`.  Can you recreate the figure at the top?  Hint: the top figure was created using the first 8 images belonging to each category in the training data.**"
   ]
  },
  {
   "cell_type": "code",
   "execution_count": null,
   "metadata": {
    "colab": {
     "base_uri": "https://localhost:8080/",
     "height": 482
    },
    "id": "bK-BACeZMrhB",
    "outputId": "f531ab80-99eb-46fe-a6a1-ec6c57c3e22c"
   },
   "outputs": [],
   "source": [
    "################## TODO BLOCK\n",
    "\n",
    "\n",
    "################## END TODO BLOCK"
   ]
  },
  {
   "cell_type": "code",
   "execution_count": null,
   "metadata": {
    "colab": {
     "base_uri": "https://localhost:8080/",
     "height": 482
    },
    "id": "t56P9tqlMrhE",
    "outputId": "783e4f4c-d8b9-4ebd-b57e-32aea135d272"
   },
   "outputs": [],
   "source": [
    "#The following code summarizes all previous operations. \n",
    "#No Need to fill in this cell. You can continue the lab.\n",
    "\n",
    "################## TODO BLOCK\n",
    "\n",
    "\n",
    "################## END TODO BLOCK"
   ]
  },
  {
   "cell_type": "markdown",
   "metadata": {
    "id": "rGZjEVFfMrhE"
   },
   "source": [
    "<a id='first_model'></a>\n",
    "\n",
    "# 2 - First naive model\n",
    "\n",
    "In order to better understand the importance of CNNs, it is instructive to first see how well a naive dense network performs on the dataset.\n",
    "\n",
    "**7) Create a sequential model with 4 `Dense` hidden layers of 1024, 512, 256, and 100 nodes each, with ReLU activation, and an output layer suited for the learning task. For the training, use the SGD optimizer with a learning rate of 0.1 and a decay of $10^{-6}$. The performance of the network will be assessed via the accuracy metric.**"
   ]
  },
  {
   "cell_type": "code",
   "execution_count": null,
   "metadata": {
    "id": "M3kX1_FKMrhF"
   },
   "outputs": [],
   "source": [
    "################## TODO BLOCK\n",
    "\n",
    "\n",
    "################## END TODO BLOCK"
   ]
  },
  {
   "cell_type": "markdown",
   "metadata": {
    "id": "gt8ZEwcIMrhF"
   },
   "source": [
    "**8) Compute by hand the total number of trainable parameters (weights and biases) in the model.**"
   ]
  },
  {
   "cell_type": "markdown",
   "metadata": {
    "collapsed": true,
    "id": "93_GoFDCMrhG"
   },
   "source": [
    "################## TODO BLOCK\n",
    "\n",
    "\n",
    "\n",
    "################## END TODO BLOCK"
   ]
  },
  {
   "cell_type": "markdown",
   "metadata": {
    "id": "qvKNQ8USMrhG"
   },
   "source": [
    "**9) Use the `summary()` function on model to get a text summary of the model.  Did you compute the number of parameters correctly?**"
   ]
  },
  {
   "cell_type": "code",
   "execution_count": null,
   "metadata": {
    "colab": {
     "base_uri": "https://localhost:8080/"
    },
    "id": "8mrYcdVlMrhG",
    "outputId": "64526ae8-1583-4149-9e44-e93061668711"
   },
   "outputs": [],
   "source": [
    "################## TODO BLOCK\n",
    "\n",
    "################## END TODO BLOCK"
   ]
  },
  {
   "cell_type": "markdown",
   "metadata": {
    "id": "NiW2A-sPMrhH"
   },
   "source": [
    "**10) Train the model for 10 epochs, with a batch size of 32 (you may also use early stopping). What is the model performance?**"
   ]
  },
  {
   "cell_type": "code",
   "execution_count": null,
   "metadata": {
    "colab": {
     "base_uri": "https://localhost:8080/"
    },
    "id": "gvCgiVx2MrhH",
    "outputId": "3225b26c-7119-450d-ece8-36c7b17c1372"
   },
   "outputs": [],
   "source": [
    "################## TODO BLOCK\n",
    "\n",
    "\n",
    "################## END TODO BLOCK"
   ]
  },
  {
   "cell_type": "markdown",
   "metadata": {
    "id": "rJc3hPwUMrhI"
   },
   "source": [
    "**11) Plot several images with their predictions. Any comment?**"
   ]
  },
  {
   "cell_type": "code",
   "execution_count": null,
   "metadata": {
    "colab": {
     "base_uri": "https://localhost:8080/",
     "height": 684
    },
    "id": "tAzzNSQpMrhI",
    "outputId": "aad7cce9-12dd-4ac5-ed80-3779d38ffc6c"
   },
   "outputs": [],
   "source": [
    "################## TODO BLOCK\n",
    "\n",
    "################## END TODO BLOCK"
   ]
  },
  {
   "cell_type": "markdown",
   "metadata": {
    "id": "NIgqlEpVMrhJ"
   },
   "source": [
    "<a id='cnn'></a>\n",
    "\n",
    "# 3 - Convolutional Neural Network\n",
    " \n",
    "\n",
    "Convolutional neural networks allow us to do drastically better on this dataset (and many image classification problems in general).  In this task, you will build your first convolutional network and see how it performs during training."
   ]
  },
  {
   "cell_type": "markdown",
   "metadata": {
    "id": "0mG-1a3-MrhJ"
   },
   "source": [
    "<a id='first_cnn'></a>\n",
    "## 3.1 - Create your first CNN"
   ]
  },
  {
   "cell_type": "markdown",
   "metadata": {
    "id": "23j8vdNVMrhK"
   },
   "source": [
    "**12) Create a new model with the following layers (use the same optimizer and loss as above)**\n",
    "  - 3x3 2D convolution with zero-padding, a stride of 1, 8 filters\n",
    "  - ReLU activation\n",
    "  - 3,3 2D convolution, no padding, a stride of 1, 8 filters\n",
    "  - ReLU activation\n",
    "  - Max pooling with size (2,2) and a stride of 2\n",
    "  - 3x3 2D convolution, with zero-padding, a stride of 1, 32 filters\n",
    "  - ReLU activation\n",
    "  - 3x3 2D convolution, no padding, a stride of 1, 32 filters\n",
    "  - ReLU activation\n",
    "  - Max pooling with size (2,2) and a stride of 2\n",
    "  - Flatten\n",
    "  - Dense layer with 408 nodes, ReLU activation\n",
    "  - A well-chosen output layer"
   ]
  },
  {
   "cell_type": "code",
   "execution_count": null,
   "metadata": {
    "id": "NXWuOov3MrhL"
   },
   "outputs": [],
   "source": [
    "################## TODO BLOCK\n",
    "\n",
    "################## END TODO BLOCK"
   ]
  },
  {
   "cell_type": "markdown",
   "metadata": {
    "id": "T_Bf2fQRMrhL"
   },
   "source": [
    "**13) Compute by hand the number of trainable parameters in this network.  Are there more or less than the more simple dense network?  Why?  Confirm with `summary()`.**"
   ]
  },
  {
   "cell_type": "markdown",
   "metadata": {
    "id": "fzPJHo9qMrhL"
   },
   "source": [
    "################## TODO BLOCK\n",
    "\n",
    "\n",
    "################## END TODO BLOCK"
   ]
  },
  {
   "cell_type": "code",
   "execution_count": null,
   "metadata": {
    "colab": {
     "base_uri": "https://localhost:8080/"
    },
    "id": "77fhFeNeMrhL",
    "outputId": "b9653c50-40c7-49a0-d946-20e55261eb3c"
   },
   "outputs": [],
   "source": [
    "################## TODO BLOCK\n",
    "\n",
    "################## END TODO BLOCK"
   ]
  },
  {
   "cell_type": "markdown",
   "metadata": {
    "id": "BjY-FAxUMrhM"
   },
   "source": [
    "**14) Train the network for 10 epochs, with batch size of 32. How does the validation accuracy change with each epoch?**"
   ]
  },
  {
   "cell_type": "code",
   "execution_count": null,
   "metadata": {
    "colab": {
     "base_uri": "https://localhost:8080/"
    },
    "id": "TTFL_p7zMrhM",
    "outputId": "8796e16e-bb8b-4a7e-9780-93086fe3ee43",
    "scrolled": false
   },
   "outputs": [],
   "source": [
    "################## TODO BLOCK\n",
    "\n",
    "################## END TODO BLOCK"
   ]
  },
  {
   "cell_type": "code",
   "execution_count": null,
   "metadata": {
    "colab": {
     "base_uri": "https://localhost:8080/",
     "height": 312
    },
    "id": "dM9Ga7-iMrhM",
    "outputId": "7a10c864-3a10-4bb3-e475-add45849e61f"
   },
   "outputs": [],
   "source": [
    "# Plot the evolution of (train/val) accuracy through epochs\n",
    "\n",
    "################## TODO BLOCK\n",
    "\n",
    "################## END TODO BLOCK"
   ]
  },
  {
   "cell_type": "markdown",
   "metadata": {
    "id": "sogGhXKlMrhN"
   },
   "source": [
    "<a id='cnn_parameters'></a>\n",
    "## 3.2 - Influence of parameters on the performance"
   ]
  },
  {
   "cell_type": "markdown",
   "metadata": {
    "id": "byHrGn35MrhO"
   },
   "source": [
    "**15) How does the performance depend on batch size?**"
   ]
  },
  {
   "cell_type": "code",
   "execution_count": null,
   "metadata": {
    "colab": {
     "base_uri": "https://localhost:8080/"
    },
    "id": "THQbpMDHMrhO",
    "outputId": "0f2bff8a-9d3f-4265-d2d1-2be521246d43",
    "scrolled": true
   },
   "outputs": [],
   "source": [
    "################## TODO BLOCK\n",
    "\n",
    "################## END TODO BLOCK"
   ]
  },
  {
   "cell_type": "code",
   "execution_count": null,
   "metadata": {
    "colab": {
     "base_uri": "https://localhost:8080/",
     "height": 962
    },
    "id": "4xnQOWS6MrhO",
    "outputId": "e34d97ba-f21d-43d6-e574-cb3a10e3e8ae"
   },
   "outputs": [],
   "source": [
    "# Plot the evolution of (train/val) accuracy through epochs\n",
    "\n",
    "################## TODO BLOCK\n",
    "\n",
    "\n",
    "################## END TODO BLOCK"
   ]
  },
  {
   "cell_type": "markdown",
   "metadata": {
    "id": "G3CJEI0tMrhQ"
   },
   "source": [
    "**16) Consider now a batch size of 32 and consider the above CNN. Try adding 3 dropout layers to this model, one after each max-pooling layer and one before the last layer, using a dropout of parameter p=0.25. Does this improve the model? How does the performance vary with the dropout ratio? What does p correspond to?**"
   ]
  },
  {
   "cell_type": "code",
   "execution_count": null,
   "metadata": {
    "colab": {
     "base_uri": "https://localhost:8080/"
    },
    "id": "Hnk_fg_qMrhR",
    "outputId": "1914bee6-a4d7-4a81-9725-f921de7e207e",
    "scrolled": true
   },
   "outputs": [],
   "source": [
    "################## TODO BLOCK\n",
    "\n",
    "\n",
    "################## END TODO BLOCK"
   ]
  },
  {
   "cell_type": "code",
   "execution_count": null,
   "metadata": {
    "colab": {
     "base_uri": "https://localhost:8080/",
     "height": 962
    },
    "id": "3ovWuF8BMrhR",
    "outputId": "40987a52-f353-42e7-8b88-4891260ff410"
   },
   "outputs": [],
   "source": [
    "# Plot the evolution of (train/val) accuracy through epochs\n",
    "\n",
    "################## TODO BLOCK\n",
    "\n",
    "################## END TODO BLOCK"
   ]
  },
  {
   "cell_type": "markdown",
   "metadata": {
    "id": "sHMvWWtUMrhS"
   },
   "source": [
    "**17) Add batch normalization layers before each dropout layer, with the dropout parameter of your choice. What is the impact of batch normalization on the model's performance?**"
   ]
  },
  {
   "cell_type": "code",
   "execution_count": null,
   "metadata": {
    "colab": {
     "base_uri": "https://localhost:8080/"
    },
    "id": "gSK8S_GIMrhS",
    "outputId": "136b653d-ec67-4679-9679-15cdb7b3b81c",
    "scrolled": false
   },
   "outputs": [],
   "source": [
    "################## TODO BLOCK\n",
    "\n",
    "################## END TODO BLOCK"
   ]
  },
  {
   "cell_type": "code",
   "execution_count": null,
   "metadata": {
    "colab": {
     "base_uri": "https://localhost:8080/",
     "height": 638
    },
    "id": "F3YTVDj17CEP",
    "outputId": "a7762a64-0bb5-4594-e27d-897e2ecff89f"
   },
   "outputs": [],
   "source": [
    "# Plot the evolution of (train/val) accuracy through epochs\n",
    "\n",
    "################## TODO BLOCK\n",
    "\n",
    "################## END TODO BLOCK"
   ]
  },
  {
   "cell_type": "markdown",
   "metadata": {
    "id": "JjBWg7gzAA2Y"
   },
   "source": [
    "**18) Based on the CNNs you have considered so far in this lab, what would be the next improvement you would like to test to increase the validation accuracy of your model? Test it and comment.**"
   ]
  },
  {
   "cell_type": "code",
   "execution_count": null,
   "metadata": {
    "colab": {
     "base_uri": "https://localhost:8080/"
    },
    "id": "nbkaAl9K_9B0",
    "outputId": "145d7792-7549-4ebe-d525-8bfdf273edeb"
   },
   "outputs": [],
   "source": [
    "################## TODO BLOCK\n",
    "\n",
    "\n",
    "################## END TODO BLOCK"
   ]
  },
  {
   "cell_type": "code",
   "execution_count": null,
   "metadata": {
    "colab": {
     "base_uri": "https://localhost:8080/",
     "height": 638
    },
    "id": "bsZH6C5i7CEP",
    "outputId": "cc5f24d1-acd2-4359-dfcf-e6621c831b30"
   },
   "outputs": [],
   "source": [
    "# Plot the evolution of (train/val) accuracy through epochs\n",
    "\n",
    "################## TODO BLOCK\n",
    "\n",
    "\n",
    "################## END TODO BLOCK"
   ]
  },
  {
   "cell_type": "code",
   "execution_count": null,
   "metadata": {
    "colab": {
     "base_uri": "https://localhost:8080/"
    },
    "id": "TYVEvkw77CER",
    "outputId": "4e0e3288-41e8-4f7a-e1a9-5d060d176a9d"
   },
   "outputs": [],
   "source": [
    "################## TODO BLOCK\n",
    "\n",
    "################## END TODO BLOCK"
   ]
  },
  {
   "cell_type": "code",
   "execution_count": null,
   "metadata": {
    "colab": {
     "base_uri": "https://localhost:8080/",
     "height": 962
    },
    "id": "VBj4Pg8_7CES",
    "outputId": "ba61b9c0-bc02-465f-b337-1904d26d633e"
   },
   "outputs": [],
   "source": [
    "# Plot the evolution of (train/val) accuracy through epochs\n",
    "\n",
    "################## TODO BLOCK\n",
    "\n",
    "################## END TODO BLOCK"
   ]
  },
  {
   "cell_type": "markdown",
   "metadata": {
    "id": "YRJKsVznMrhT"
   },
   "source": [
    "<a id='results'></a>\n",
    "\n",
    "## 3.3 - Studying predictions\n",
    "\n",
    "Assuming all went well during the previous tasks, you can now predict the category of a new image!  Here are a few examples of my predictions:\n",
    "\n",
    "![predictions.png](predictions.png)\n",
    "\n",
    "**19) Use `predict` on your trained model (the best you have created so far) to test its prediction on a few example images of the test set. Using `imshow` and `hbar` from `matplotlib.pyplot`, try to recreate the image above for few test images. Compute the accuracy of your model on the test set and comment.**\n",
    "\n",
    "NB: You can save the model after training it (function `save` in keras), and then decide to load from saved file instead of building a new one (if available) on successive runs (via the function `load_model` in keras).**"
   ]
  },
  {
   "cell_type": "code",
   "execution_count": null,
   "metadata": {
    "colab": {
     "base_uri": "https://localhost:8080/",
     "height": 717
    },
    "id": "pj-J9oT0MrhT",
    "outputId": "08326e87-ecb7-4b7e-9e20-861af249d4ec"
   },
   "outputs": [],
   "source": [
    "################## TODO BLOCK\n",
    "\n",
    "################## END TODO BLOCK\n",
    "\n",
    "# Compute the accuracy\n",
    "print(\"The accuracy on the test set is\", metrics.accuracy_score(y_test, y_pred) )"
   ]
  },
  {
   "cell_type": "markdown",
   "metadata": {
    "id": "0RUFwyv7MrhU"
   },
   "source": [
    "A confusion matrix is often used in supervised learning to understand how well (or not) each category is being classified.  Each element (i,j) in the confusion matrix represents the predicted class j for each true class i.  Consider the following 10 predictions for a 2 category model predicting male or female.\n",
    "\n",
    "| example     | true category  | predicted category  |\n",
    "|-------------|----------------|---------------------|\n",
    "| 1           | male           | male                |\n",
    "| 2           | female         | male                |\n",
    "| 3           | female         | female              |\n",
    "| 4           | male           | male                |\n",
    "| 5           | male           | female              |\n",
    "| 6           | male           | male                |\n",
    "| 7           | female         | female              |\n",
    "| 8           | male           | female              |\n",
    "| 9           | female         | female              |\n",
    "| 10          | female         | female              |\n",
    "\n",
    "Based on the above data, the model is accurate 70% of the time.  The confusion matrix is\n",
    "\n",
    "|        | predicted male | predicted female |\n",
    "|--------|------|--------|\n",
    "| true male   | 3    | 2      |\n",
    "| true female | 1    | 4      |\n",
    "\n",
    "The confusion matrix gives us more information than a simple accuracy measurement. "
   ]
  },
  {
   "cell_type": "markdown",
   "metadata": {
    "id": "GEMX0MGVMrhV"
   },
   "source": [
    "**20) Create the confusion matrix the CIFAR-10 dataset using the test data.  What does it tell you about the relationships between each class?**"
   ]
  },
  {
   "cell_type": "code",
   "execution_count": null,
   "metadata": {
    "colab": {
     "base_uri": "https://localhost:8080/",
     "height": 298
    },
    "id": "C7mjD-6nMrhW",
    "outputId": "4367ae1f-3ed7-47db-9ae1-32bab348c6fe"
   },
   "outputs": [],
   "source": [
    "################## TODO BLOCK\n",
    "\n",
    "################## END TODO BLOCK"
   ]
  },
  {
   "cell_type": "markdown",
   "metadata": {
    "id": "inMbt44OMrhX"
   },
   "source": [
    "<a id='pretrained_cnn'></a>\n",
    "# 4 - Pretrained Networks"
   ]
  },
  {
   "cell_type": "markdown",
   "metadata": {
    "id": "KwKfNg4eJ-Tb"
   },
   "source": [
    "Several pre-trained networks are directly accessible via keras."
   ]
  },
  {
   "cell_type": "markdown",
   "metadata": {
    "id": "q75hsriHMrhX"
   },
   "source": [
    "**21) Build a classifier with a better accuracy on the test set than all CNN you have built before. One rule only: do not use CNN pretrained on CIFAR10.** "
   ]
  },
  {
   "cell_type": "code",
   "execution_count": null,
   "metadata": {
    "id": "4cgBaaj_7CEV"
   },
   "outputs": [],
   "source": [
    "# Import all usefull libraries\n",
    "\n",
    "################## TODO BLOCK\n",
    "\n",
    "################## END TODO BLOCK"
   ]
  },
  {
   "cell_type": "code",
   "execution_count": null,
   "metadata": {
    "colab": {
     "base_uri": "https://localhost:8080/"
    },
    "id": "culLxfckPkMo",
    "outputId": "13d39742-63aa-4941-d1a8-34bb0972eee9"
   },
   "outputs": [],
   "source": [
    "################## TODO BLOCK\n",
    "\n",
    "################## END TODO BLOCK"
   ]
  },
  {
   "cell_type": "code",
   "execution_count": null,
   "metadata": {
    "colab": {
     "base_uri": "https://localhost:8080/",
     "height": 312
    },
    "id": "GF_K_HHGgO8K",
    "outputId": "4f4fb68f-a167-495c-e45e-a5e3cc8c2ef5"
   },
   "outputs": [],
   "source": [
    "# Plot the evolution of (train/val) accuracy through epochs\n",
    "\n",
    "################## TODO BLOCK\n",
    "\n",
    "################## END TODO BLOCK"
   ]
  },
  {
   "cell_type": "code",
   "execution_count": null,
   "metadata": {
    "colab": {
     "base_uri": "https://localhost:8080/",
     "height": 714
    },
    "id": "xa5cWBdmZp79",
    "outputId": "3e59219b-6024-4da2-c9e0-5093d6439f76"
   },
   "outputs": [],
   "source": [
    "################## TODO BLOCK\n",
    "\n",
    "################## END TODO BLOCK"
   ]
  },
  {
   "cell_type": "markdown",
   "metadata": {
    "id": "lnHZBc_3uKWN"
   },
   "source": [
    "**22) Plot several images with their predictions. Any comment?**"
   ]
  },
  {
   "cell_type": "code",
   "execution_count": null,
   "metadata": {
    "colab": {
     "base_uri": "https://localhost:8080/",
     "height": 667
    },
    "id": "uTY9F-CGZ5LT",
    "outputId": "78599b99-e879-4fc1-c081-34a6d29a28a7"
   },
   "outputs": [],
   "source": [
    "################## TODO BLOCK\n",
    "\n",
    "################## END TODO BLOCK"
   ]
  }
 ],
 "metadata": {
  "accelerator": "GPU",
  "anaconda-cloud": {},
  "colab": {
   "collapsed_sections": [],
   "name": "Lab_5_CNN_Correction_2021.ipynb",
   "provenance": []
  },
  "kernelspec": {
   "display_name": "Python 3 (ipykernel)",
   "language": "python",
   "name": "python3"
  },
  "language_info": {
   "codemirror_mode": {
    "name": "ipython",
    "version": 3
   },
   "file_extension": ".py",
   "mimetype": "text/x-python",
   "name": "python",
   "nbconvert_exporter": "python",
   "pygments_lexer": "ipython3",
   "version": "3.11.5"
  }
 },
 "nbformat": 4,
 "nbformat_minor": 1
}
